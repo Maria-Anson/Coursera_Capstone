{
    "cells": [
        {
            "cell_type": "markdown",
            "metadata": {
                "collapsed": true
            },
            "source": "# Peer-graded Assignment: Segmenting and Clustering Neighborhoods in Toronto"
        },
        {
            "cell_type": "markdown",
            "metadata": {},
            "source": "## Part 1\n### Instructions:\n<ol>\n    <li>Start by creating a new Notebook for this assignment. <strong>DONE</strong></li>\n    <li>Use the Notebook to build the code to scrape the following Wikipedia page, https://en.wikipedia.org/wiki/List_of_postal_codes_of_Canada:_M, in order to obtain the data that is in the table of postal codes and to transform the data into a pandas dataframe <strong>DONE</strong></li>\n    <li>To create the above dataframe:<ul>\n        <li>The dataframe will consist of three columns: PostalCode, Borough, and Neighborhood <strong>DONE</strong></li>\n        <li>Only process the cells that have an assigned borough. Ignore cells with a borough that is Not assigned. <strong>DONE</strong></li>\n        <li>More than one neighborhood can exist in one postal code area. For example, in the table on the Wikipedia page, you will notice that M5A is listed twice and has two neighborhoods: Harbourfront and Regent Park. These two rows will be combined into one row with the neighborhoods separated with a comma as shown in row 11 in the above table. <strong>DONE</strong></li>\n        <li>If a cell has a borough but a Not assigned neighborhood, then the neighborhood will be the same as the borough.</li>\n        <li>Clean your Notebook and add Markdown cells to explain your work and any assumptions you are making.</li>\n        <li>In the last cell of your notebook, use the .shape method to print the number of rows of your dataframe.</li>\n        </ul></li>\n    <li>Submit a link to your Notebook on your Github repository.</li>\n</ol>"
        },
        {
            "cell_type": "markdown",
            "metadata": {},
            "source": "#### Start by Importing Tools and Obtaining the Data"
        },
        {
            "cell_type": "code",
            "execution_count": 4,
            "metadata": {},
            "outputs": [],
            "source": "# import tools\nimport pandas as pd\n\n# Specify URL and identify page\nurl = 'https://en.wikipedia.org/wiki/List_of_postal_codes_of_Canada:_M'\n\n# Use Pandas to read HTML to return dataframe of dataframes\ndfs = pd.read_html(url)\n\n# First dataframe is the one I want.\ndf = dfs[0]"
        },
        {
            "cell_type": "markdown",
            "metadata": {},
            "source": "#### Next, QC the Data"
        },
        {
            "cell_type": "code",
            "execution_count": 5,
            "metadata": {
                "scrolled": true
            },
            "outputs": [
                {
                    "name": "stdout",
                    "output_type": "stream",
                    "text": "    Postal Code       Borough Neighbourhood\n0           M1A  Not assigned  Not assigned\n1           M2A  Not assigned  Not assigned\n7           M8A  Not assigned  Not assigned\n10          M2B  Not assigned  Not assigned\n15          M7B  Not assigned  Not assigned\n16          M8B  Not assigned  Not assigned\n19          M2C  Not assigned  Not assigned\n24          M7C  Not assigned  Not assigned\n25          M8C  Not assigned  Not assigned\n28          M2E  Not assigned  Not assigned\n29          M3E  Not assigned  Not assigned\n33          M7E  Not assigned  Not assigned\n34          M8E  Not assigned  Not assigned\n35          M9E  Not assigned  Not assigned\n37          M2G  Not assigned  Not assigned\n38          M3G  Not assigned  Not assigned\n42          M7G  Not assigned  Not assigned\n43          M8G  Not assigned  Not assigned\n44          M9G  Not assigned  Not assigned\n51          M7H  Not assigned  Not assigned\n52          M8H  Not assigned  Not assigned\n53          M9H  Not assigned  Not assigned\n60          M7J  Not assigned  Not assigned\n61          M8J  Not assigned  Not assigned\n62          M9J  Not assigned  Not assigned\n69          M7K  Not assigned  Not assigned\n70          M8K  Not assigned  Not assigned\n71          M9K  Not assigned  Not assigned\n78          M7L  Not assigned  Not assigned\n79          M8L  Not assigned  Not assigned\n..          ...           ...           ...\n132         M7T  Not assigned  Not assigned\n133         M8T  Not assigned  Not assigned\n134         M9T  Not assigned  Not assigned\n136         M2V  Not assigned  Not assigned\n137         M3V  Not assigned  Not assigned\n140         M6V  Not assigned  Not assigned\n141         M7V  Not assigned  Not assigned\n145         M2W  Not assigned  Not assigned\n146         M3W  Not assigned  Not assigned\n149         M6W  Not assigned  Not assigned\n150         M7W  Not assigned  Not assigned\n154         M2X  Not assigned  Not assigned\n155         M3X  Not assigned  Not assigned\n158         M6X  Not assigned  Not assigned\n159         M7X  Not assigned  Not assigned\n161         M9X  Not assigned  Not assigned\n162         M1Y  Not assigned  Not assigned\n163         M2Y  Not assigned  Not assigned\n164         M3Y  Not assigned  Not assigned\n166         M5Y  Not assigned  Not assigned\n167         M6Y  Not assigned  Not assigned\n170         M9Y  Not assigned  Not assigned\n171         M1Z  Not assigned  Not assigned\n172         M2Z  Not assigned  Not assigned\n173         M3Z  Not assigned  Not assigned\n174         M4Z  Not assigned  Not assigned\n175         M5Z  Not assigned  Not assigned\n176         M6Z  Not assigned  Not assigned\n177         M7Z  Not assigned  Not assigned\n179         M9Z  Not assigned  Not assigned\n\n[77 rows x 3 columns]\n"
                }
            ],
            "source": "# Check for \"Not assigned\" Boroughs\nprint(df.loc[df['Borough'] == 'Not assigned'])\n\n# Remove \"Not assigned\" Boroughs\ndf = df[df.Borough != 'Not assigned']"
        },
        {
            "cell_type": "code",
            "execution_count": 6,
            "metadata": {},
            "outputs": [
                {
                    "name": "stdout",
                    "output_type": "stream",
                    "text": "\"Not assigned\" Neighborhoods: Empty DataFrame\nColumns: [Postal Code, Borough, Neighbourhood]\nIndex: []\n"
                }
            ],
            "source": "# Check for additional \"Not assigned\" Neighborhoods\nprint('\"Not assigned\" Neighborhoods:', df.loc[df['Neighbourhood'] == 'Not assigned'])"
        },
        {
            "cell_type": "markdown",
            "metadata": {},
            "source": "Note: No additional \"Not assigned\" Neighborhoods that weren't already addressed, so no further action required"
        },
        {
            "cell_type": "code",
            "execution_count": 7,
            "metadata": {},
            "outputs": [
                {
                    "name": "stdout",
                    "output_type": "stream",
                    "text": "Unique values: 103 Total Rows: 103\n"
                }
            ],
            "source": "# Check for multiple neighborhoods using the same postal code by looking for duplicate postal codes\nprint('Unique values:', df['Postal Code'].nunique(), 'Total Rows:', len(df.index))"
        },
        {
            "cell_type": "markdown",
            "metadata": {},
            "source": "Note: No duplicate postal codes that weren't already addressed, so no further action required."
        },
        {
            "cell_type": "code",
            "execution_count": 14,
            "metadata": {},
            "outputs": [],
            "source": "# Reset index to accomodate for dropped rows\ndf = df.reset_index(drop=True)"
        },
        {
            "cell_type": "markdown",
            "metadata": {},
            "source": "#### Show Dataframe Shape"
        },
        {
            "cell_type": "code",
            "execution_count": 3,
            "metadata": {},
            "outputs": [
                {
                    "data": {
                        "text/plain": "(103, 3)"
                    },
                    "execution_count": 3,
                    "metadata": {},
                    "output_type": "execute_result"
                }
            ],
            "source": "df.shape"
        },
        {
            "cell_type": "markdown",
            "metadata": {},
            "source": "## Part 2\n### Instructions:\nNow that you have built a dataframe of the postal code of each neighborhood along with the borough name and neighborhood name, in order to utilize the Foursquare location data, we need to get the latitude and the longitude coordinates of each neighborhood.\n\n...we will use the Geocoder Python package instead: https://geocoder.readthedocs.io/index.html.\n\nThe problem with this Package is you have to be persistent sometimes in order to get the geographical coordinates of a given postal code. So you can make a call to get the latitude and longitude coordinates of a given postal code and the result would be None, and then make the call again and you would get the coordinates. So, in order to make sure that you get the coordinates for all of our neighborhoods, you can run a while loop for each postal code.\n\nGiven that this package can be very unreliable, in case you are not able to get the geographical coordinates of the neighborhoods using the Geocoder package, here is a link to a csv file that has the geographical coordinates of each postal code: http://cocl.us/Geospatial_data\n\nUse the Geocoder package or the csv file to create a  dataframe.\n\nImportant Note: There is a limit on how many times you can call geocoder.google function. It is 2500 times per day. This should be way more than enough for you to get acquainted with the package and to use it to get the geographical coordinates of the neighborhoods in the Toronto.\n\nOnce you are able to create the dataframe, submit a link to the new Notebook on your Github repository."
        },
        {
            "cell_type": "code",
            "execution_count": 17,
            "metadata": {},
            "outputs": [],
            "source": "# Specify URL and identify page\nurl2 = 'http://cocl.us/Geospatial_data'\n\n# Use Pandas to read csv into a dataframe\ndf2 = pd.read_csv(url2)\n\ndf2.head()"
        },
        {
            "cell_type": "markdown",
            "metadata": {},
            "source": "## Part 3\n### Instructions:\nExplore and cluster the neighborhoods in Toronto. You can decide to work with only boroughs that contain the word Toronto and then replicate the same analysis we did to the New York City data. It is up to you.\n\nJust make sure:\n<ol>\n    <li>to add enough Markdown cells to explain what you decided to do and to report any observations you make.</li>\n    <li>to generate maps to visualize your neighborhoods and how they cluster together.</li>\n</ol>    \nOnce you are happy with your analysis, submit a link to the new Notebook on your Github repository."
        },
        {
            "cell_type": "code",
            "execution_count": 18,
            "metadata": {},
            "outputs": [
                {
                    "data": {
                        "text/html": "<div>\n<style scoped>\n    .dataframe tbody tr th:only-of-type {\n        vertical-align: middle;\n    }\n\n    .dataframe tbody tr th {\n        vertical-align: top;\n    }\n\n    .dataframe thead th {\n        text-align: right;\n    }\n</style>\n<table border=\"1\" class=\"dataframe\">\n  <thead>\n    <tr style=\"text-align: right;\">\n      <th></th>\n      <th>Postal Code</th>\n      <th>Latitude</th>\n      <th>Longitude</th>\n    </tr>\n  </thead>\n  <tbody>\n    <tr>\n      <th>0</th>\n      <td>M1B</td>\n      <td>43.806686</td>\n      <td>-79.194353</td>\n    </tr>\n    <tr>\n      <th>1</th>\n      <td>M1C</td>\n      <td>43.784535</td>\n      <td>-79.160497</td>\n    </tr>\n    <tr>\n      <th>2</th>\n      <td>M1E</td>\n      <td>43.763573</td>\n      <td>-79.188711</td>\n    </tr>\n    <tr>\n      <th>3</th>\n      <td>M1G</td>\n      <td>43.770992</td>\n      <td>-79.216917</td>\n    </tr>\n    <tr>\n      <th>4</th>\n      <td>M1H</td>\n      <td>43.773136</td>\n      <td>-79.239476</td>\n    </tr>\n  </tbody>\n</table>\n</div>",
                        "text/plain": "  Postal Code   Latitude  Longitude\n0         M1B  43.806686 -79.194353\n1         M1C  43.784535 -79.160497\n2         M1E  43.763573 -79.188711\n3         M1G  43.770992 -79.216917\n4         M1H  43.773136 -79.239476"
                    },
                    "execution_count": 18,
                    "metadata": {},
                    "output_type": "execute_result"
                }
            ],
            "source": ""
        },
        {
            "cell_type": "code",
            "execution_count": null,
            "metadata": {},
            "outputs": [],
            "source": ""
        }
    ],
    "metadata": {
        "kernelspec": {
            "display_name": "Python 3.6",
            "language": "python",
            "name": "python3"
        },
        "language_info": {
            "codemirror_mode": {
                "name": "ipython",
                "version": 3
            },
            "file_extension": ".py",
            "mimetype": "text/x-python",
            "name": "python",
            "nbconvert_exporter": "python",
            "pygments_lexer": "ipython3",
            "version": "3.6.9"
        }
    },
    "nbformat": 4,
    "nbformat_minor": 1
}